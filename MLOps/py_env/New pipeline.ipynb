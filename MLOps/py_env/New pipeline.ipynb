{
 "cells": [
  {
   "cell_type": "code",
   "execution_count": 1,
   "id": "a83c9a8e-0cfe-45d1-a55f-cb0679de7113",
   "metadata": {},
   "outputs": [],
   "source": [
    "import numpy as np\n",
    "import pandas as pd\n",
    "import pickle\n",
    "from flask import Flask, request, jsonify\n",
    "from sklearn.datasets import load_iris\n",
    "from sklearn.model_selection import train_test_split, GridSearchCV\n",
    "from sklearn.ensemble import RandomForestClassifier, GradientBoostingClassifier\n",
    "from sklearn.svm import SVC\n",
    "from sklearn.pipeline import Pipeline\n",
    "from sklearn.preprocessing import StandardScaler\n",
    "from sklearn.metrics import accuracy_score\n",
    "import os"
   ]
  },
  {
   "cell_type": "code",
   "execution_count": 2,
   "id": "f7394969-7bba-45ac-b945-abe697e84221",
   "metadata": {},
   "outputs": [],
   "source": [
    "# Step 1: Load dataset\n",
    "# We are using the Iris dataset for simplicity. In real scenarios, you will load a dataset from a file.\n",
    "data = load_iris()\n",
    "X = data.data  # Features\n",
    "y = data.target  # Target variable"
   ]
  },
  {
   "cell_type": "code",
   "execution_count": 5,
   "id": "f276a66a",
   "metadata": {},
   "outputs": [
    {
     "data": {
      "text/plain": [
       "array([0, 0, 0, 0, 0, 0, 0, 0, 0, 0, 0, 0, 0, 0, 0, 0, 0, 0, 0, 0, 0, 0,\n",
       "       0, 0, 0, 0, 0, 0, 0, 0, 0, 0, 0, 0, 0, 0, 0, 0, 0, 0, 0, 0, 0, 0,\n",
       "       0, 0, 0, 0, 0, 0, 1, 1, 1, 1, 1, 1, 1, 1, 1, 1, 1, 1, 1, 1, 1, 1,\n",
       "       1, 1, 1, 1, 1, 1, 1, 1, 1, 1, 1, 1, 1, 1, 1, 1, 1, 1, 1, 1, 1, 1,\n",
       "       1, 1, 1, 1, 1, 1, 1, 1, 1, 1, 1, 1, 2, 2, 2, 2, 2, 2, 2, 2, 2, 2,\n",
       "       2, 2, 2, 2, 2, 2, 2, 2, 2, 2, 2, 2, 2, 2, 2, 2, 2, 2, 2, 2, 2, 2,\n",
       "       2, 2, 2, 2, 2, 2, 2, 2, 2, 2, 2, 2, 2, 2, 2, 2, 2, 2])"
      ]
     },
     "execution_count": 5,
     "metadata": {},
     "output_type": "execute_result"
    }
   ],
   "source": [
    "y"
   ]
  },
  {
   "cell_type": "code",
   "execution_count": 6,
   "id": "f7ae33a1-9a4f-4a3e-bfb5-d14fb63f0c0d",
   "metadata": {},
   "outputs": [],
   "source": [
    "# Step 2: Split dataset into training and testing sets\n",
    "# 80% training, 20% testing to evaluate model performance.\n",
    "X_train, X_test, y_train, y_test = train_test_split(X, y, test_size=0.2, random_state=42)"
   ]
  },
  {
   "cell_type": "code",
   "execution_count": 7,
   "id": "cbce0fc6-a2e9-48a2-967d-c97f68dc55cf",
   "metadata": {},
   "outputs": [],
   "source": [
    "# Step 3: Define models and parameter grids\n",
    "# We define 3 different models with their respective hyperparameters for tuning.\n",
    "models = {\n",
    "    \"RandomForest\": (Pipeline([\n",
    "        ('clf', RandomForestClassifier())\n",
    "    ]), {\n",
    "        'clf__n_estimators': [50, 100, 200],\n",
    "        'clf__max_depth': [None, 10, 20]\n",
    "    }),\n",
    "    \"SVM\": (Pipeline([\n",
    "        ('scaler', StandardScaler()),  # StandardScaler is used to normalize features for SVM\n",
    "        ('clf', SVC())\n",
    "    ]), {\n",
    "        'clf__C': [0.1, 1, 10],\n",
    "        'clf__kernel': ['linear', 'rbf']\n",
    "    }),\n",
    "    \"GradientBoosting\": (Pipeline([\n",
    "        ('clf', GradientBoostingClassifier())\n",
    "    ]), {\n",
    "        'clf__n_estimators': [50, 100, 200],\n",
    "        'clf__learning_rate': [0.01, 0.1, 0.2]\n",
    "    })\n",
    "}\n",
    "\n",
    "best_models = {}"
   ]
  },
  {
   "cell_type": "code",
   "execution_count": 8,
   "id": "be0fba1a-098b-48d7-8161-6ce2891238e6",
   "metadata": {},
   "outputs": [
    {
     "name": "stdout",
     "output_type": "stream",
     "text": [
      "Best parameters for RandomForest: {'clf__max_depth': 10, 'clf__n_estimators': 200}\n",
      "Best parameters for SVM: {'clf__C': 0.1, 'clf__kernel': 'linear'}\n",
      "Best parameters for GradientBoosting: {'clf__learning_rate': 0.01, 'clf__n_estimators': 50}\n"
     ]
    }
   ],
   "source": [
    "# Step 4: Perform Grid Search to find the best parameters\n",
    "# This step will take some time as it runs cross-validation on multiple hyperparameters.\n",
    "for model_name, (pipeline, param_grid) in models.items():\n",
    "    grid_search = GridSearchCV(pipeline, param_grid, cv=5, scoring='accuracy', n_jobs=-1)\n",
    "    grid_search.fit(X_train, y_train)\n",
    "    best_models[model_name] = grid_search.best_estimator_\n",
    "    print(f\"Best parameters for {model_name}: {grid_search.best_params_}\")\n"
   ]
  },
  {
   "cell_type": "code",
   "execution_count": 9,
   "id": "aaa6db56-727e-40ce-ac75-5a64f71bbce4",
   "metadata": {},
   "outputs": [
    {
     "name": "stdout",
     "output_type": "stream",
     "text": [
      "Accuracy of RandomForest: 1.0000\n",
      "Accuracy of SVM: 1.0000\n",
      "Accuracy of GradientBoosting: 1.0000\n",
      "\n",
      "Best Model: RandomForest with accuracy 1.0000\n"
     ]
    }
   ],
   "source": [
    "# Step 5: Evaluate all models to find the best performing one\n",
    "best_model = None\n",
    "best_score = 0\n",
    "\n",
    "for model_name, model in best_models.items():\n",
    "    y_pred = model.predict(X_test)\n",
    "    acc = accuracy_score(y_test, y_pred)\n",
    "    print(f\"Accuracy of {model_name}: {acc:.4f}\")\n",
    "    if acc > best_score:\n",
    "        best_score = acc\n",
    "        best_model = (model_name, model)\n",
    "\n",
    "print(f\"\\nBest Model: {best_model[0]} with accuracy {best_score:.4f}\")"
   ]
  },
  {
   "cell_type": "code",
   "execution_count": 10,
   "id": "43540701-845a-4b0a-a83c-67d3a92e9b68",
   "metadata": {},
   "outputs": [],
   "source": [
    "# Step 6: Save the best model to a pickle file\n",
    "# This pickle file is used for model inference in Flask API.\n",
    "with open('best_model.pkl', 'wb') as file:\n",
    "    pickle.dump(best_model[1], file)"
   ]
  },
  {
   "cell_type": "code",
   "execution_count": null,
   "id": "78811367-5c8f-47e8-9f14-5b8acd2ea174",
   "metadata": {},
   "outputs": [],
   "source": []
  }
 ],
 "metadata": {
  "kernelspec": {
   "display_name": "base",
   "language": "python",
   "name": "python3"
  },
  "language_info": {
   "codemirror_mode": {
    "name": "ipython",
    "version": 3
   },
   "file_extension": ".py",
   "mimetype": "text/x-python",
   "name": "python",
   "nbconvert_exporter": "python",
   "pygments_lexer": "ipython3",
   "version": "3.11.5"
  }
 },
 "nbformat": 4,
 "nbformat_minor": 5
}
